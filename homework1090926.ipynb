{
  "nbformat": 4,
  "nbformat_minor": 0,
  "metadata": {
    "colab": {
      "name": "homework1090926.ipynb",
      "provenance": [],
      "collapsed_sections": []
    },
    "kernelspec": {
      "name": "python3",
      "display_name": "Python 3"
    }
  },
  "cells": [
    {
      "cell_type": "code",
      "metadata": {
        "id": "SwPZ-Zy455mQ",
        "outputId": "97b7446e-3c1e-4205-a420-74be69fe43f5",
        "colab": {
          "base_uri": "https://localhost:8080/",
          "height": 118
        }
      },
      "source": [
        "def f(x):\n",
        "  if (type(x)==int):\n",
        "     if x >= 0 and x < 2:\n",
        "       return x\n",
        "     else:\n",
        "         return f(x-2) + f(x-1)\n",
        "\n",
        "print(\"問題一:\")\n",
        "print(\"見以上程式\")\n",
        "print(\"問題二:\")\n",
        "print(f(0),f(1),f(2),f(3),f(4),f(5),f(6),f(7),f(8),f(9))\n",
        "print(\"問題三:\")\n",
        "print(f(12))\n"
      ],
      "execution_count": 15,
      "outputs": [
        {
          "output_type": "stream",
          "text": [
            "問題一:\n",
            "見以上程式\n",
            "問題二:\n",
            "0 1 1 2 3 5 8 13 21 34\n",
            "問題三:\n",
            "144\n"
          ],
          "name": "stdout"
        }
      ]
    }
  ]
}