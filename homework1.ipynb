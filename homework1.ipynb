{
  "nbformat": 4,
  "nbformat_minor": 0,
  "metadata": {
    "colab": {
      "name": "homework1.ipynb",
      "provenance": [],
      "collapsed_sections": []
    },
    "kernelspec": {
      "name": "python3",
      "display_name": "Python 3"
    }
  },
  "cells": [
    {
      "cell_type": "code",
      "metadata": {
        "id": "SwPZ-Zy455mQ",
        "outputId": "79b72f6c-7115-4f4f-8e15-aa76d8f764db",
        "colab": {
          "base_uri": "https://localhost:8080/",
          "height": 118
        }
      },
      "source": [
        "f = [0,1]\n",
        "\n",
        "for i in range(1,13):\n",
        "   f.append(f[i]+f[i-1])\n",
        "\n",
        "print(\"問題一:\")\n",
        "print(\"A:見以上方程式\")\n",
        "print(\"問題二:\")\n",
        "print(\"A:\",f[:10])\n",
        "print(\"問題三:\")\n",
        "print(\"A:\",f[12])"
      ],
      "execution_count": 2,
      "outputs": [
        {
          "output_type": "stream",
          "text": [
            "問題一:\n",
            "A:見以上方程式\n",
            "問題二:\n",
            "A: [0, 1, 1, 2, 3, 5, 8, 13, 21, 34]\n",
            "問題三:\n",
            "A: 144\n"
          ],
          "name": "stdout"
        }
      ]
    }
  ]
}